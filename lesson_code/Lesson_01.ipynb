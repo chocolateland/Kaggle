{
 "cells": [
  {
   "cell_type": "markdown",
   "metadata": {},
   "source": [
    "# kaggle笔记"
   ]
  },
  {
   "cell_type": "markdown",
   "metadata": {},
   "source": [
    "### 三种方法安装包"
   ]
  },
  {
   "cell_type": "code",
   "execution_count": null,
   "metadata": {},
   "outputs": [],
   "source": [
    "cmd -> pip install pandas"
   ]
  },
  {
   "cell_type": "code",
   "execution_count": 1,
   "metadata": {},
   "outputs": [
    {
     "data": {
      "text/plain": [
       "1"
      ]
     },
     "execution_count": 1,
     "metadata": {},
     "output_type": "execute_result"
    }
   ],
   "source": [
    "import os\n",
    "os.system('!pip install pandas')"
   ]
  },
  {
   "cell_type": "code",
   "execution_count": 2,
   "metadata": {},
   "outputs": [
    {
     "name": "stdout",
     "output_type": "stream",
     "text": [
      "Requirement already satisfied: pandas in h:\\anaconda3\\anzhuang1\\lib\\site-packages (0.24.2)\n",
      "Requirement already satisfied: numpy>=1.12.0 in h:\\anaconda3\\anzhuang1\\lib\\site-packages (from pandas) (1.16.2)\n",
      "Requirement already satisfied: python-dateutil>=2.5.0 in h:\\anaconda3\\anzhuang1\\lib\\site-packages (from pandas) (2.8.0)\n",
      "Requirement already satisfied: pytz>=2011k in h:\\anaconda3\\anzhuang1\\lib\\site-packages (from pandas) (2018.9)\n",
      "Requirement already satisfied: six>=1.5 in h:\\anaconda3\\anzhuang1\\lib\\site-packages (from python-dateutil>=2.5.0->pandas) (1.12.0)\n"
     ]
    }
   ],
   "source": [
    "!pip install pandas"
   ]
  },
  {
   "cell_type": "markdown",
   "metadata": {},
   "source": [
    "### 常用包介绍"
   ]
  },
  {
   "cell_type": "code",
   "execution_count": 2,
   "metadata": {
    "ExecuteTime": {
     "end_time": "2020-02-06T04:50:41.043927Z",
     "start_time": "2020-02-06T04:50:24.293220Z"
    }
   },
   "outputs": [],
   "source": [
    "import os   # 关于系统的一些包\n",
    "\n",
    "import json   # csv excel ,json文件   https://www.jianshu.com/p/fca4f77776a5\n",
    "\n",
    "import gc #垃圾回收\n",
    "\n",
    "from numba import jit  #nlp cv\n",
    "\n",
    "#tqdm  # 显示进度条，notebook希望显示时间  https://www.jianshu.com/p/428ae45d42e6\n",
    "#os.system('pip install tqdm')\n",
    "\n",
    "from tqdm import tqdm_notebook\n",
    "from tqdm import tqdm                 # time.sleep()   https://www.jb51.net/article/164888.htm\n",
    " \n",
    "#Integrated model\n",
    "#os.system('pip install lightgbm')   #集成的模型，常用于机器学习\n",
    "import lightgbm as lgb              #\n",
    "#os.system('pip install catboost==0.15.2')   #catboost刚开源，比赛中会用到\n",
    "import catboost as cbt              #\n",
    "#os.system('pip install xgboost')\n",
    "#import xgboost as xgb              #\n",
    "\n",
    "#base import \n",
    "import numpy as np                  #   https://zhuanlan.zhihu.com/p/32242331      https://www.runoob.com/numpy/numpy-tutorial.html\n",
    "import pandas as pd                 #    https://www.jianshu.com/p/218baa41bab9\n",
    "\n",
    "#about sklearn\n",
    "from sklearn.metrics import roc_auc_score\n",
    "from sklearn.model_selection import StratifiedKFold, KFold,RepeatedKFold   # 统计KFold   / /  重复KFold\n",
    "from sklearn.preprocessing import LabelEncoder              #预处理\n",
    "from sklearn.preprocessing import StandardScaler            #预处理\n",
    "from sklearn.metrics import mean_absolute_error\n",
    "from sklearn.linear_model import LinearRegression\n",
    "from sklearn.preprocessing import StandardScaler as std      #预处理，标准化\n",
    "from sklearn.kernel_ridge import KernelRidge                  #监督学习的包\n",
    "from sklearn.metrics import f1_score                          #验证\n",
    "\n",
    "#about time    # %%time  显示某段程序运行多久了\n",
    "import time\n",
    "import datetime\n",
    "from datetime import datetime, timedelta\n",
    "\n",
    "#Garbage collcetion\n",
    "import gc    #回收\n",
    "#other \n",
    "from collections import Counter    #计数\n",
    "from statistics import mode\n",
    "    #warning\n",
    "import warnings\n",
    "warnings.filterwarnings(\"ignore\")\n",
    "import json\n",
    "import math\n",
    "tqdm.pandas()\n",
    "os.system('pip install re')\n",
    "import re     \n",
    "\n"
   ]
  },
  {
   "cell_type": "markdown",
   "metadata": {},
   "source": [
    "## 比赛时可以直接导入上述包， baseline"
   ]
  },
  {
   "cell_type": "markdown",
   "metadata": {},
   "source": [
    "### 刚开始可以多参加小的比赛！！！"
   ]
  },
  {
   "cell_type": "markdown",
   "metadata": {},
   "source": [
    "##### xgboost与lightgbm安装\n",
    "+ https://www.jianshu.com/p/30555fd2bd50"
   ]
  },
  {
   "cell_type": "markdown",
   "metadata": {},
   "source": [
    " ### xgboost与lightgbm对比分析"
   ]
  },
  {
   "cell_type": "markdown",
   "metadata": {},
   "source": [
    "+ https://zhuanlan.zhihu.com/p/30740067\n",
    "+ https://zhuanlan.zhihu.com/p/26214650\n",
    "+ https://www.zhihu.com/question/58883125\n",
    "+ https://www.zhihu.com/question/41354392\n",
    "+ https://blog.csdn.net/huacha__/article/details/81057150"
   ]
  },
  {
   "cell_type": "markdown",
   "metadata": {},
   "source": [
    "###  查疑"
   ]
  },
  {
   "cell_type": "code",
   "execution_count": 3,
   "metadata": {
    "ExecuteTime": {
     "end_time": "2020-02-06T04:50:41.115886Z",
     "start_time": "2020-02-06T04:50:41.048925Z"
    }
   },
   "outputs": [
    {
     "name": "stdout",
     "output_type": "stream",
     "text": [
      "     a    b    c    d\n",
      "1  0.0  0.0  0.0  0.0\n",
      "2  0.0  0.0  0.0  0.0\n",
      "3  0.0  0.0  0.0  0.0\n",
      "     b    c    d    e\n",
      "2  1.0  1.0  1.0  1.0\n",
      "3  1.0  1.0  1.0  1.0\n",
      "4  1.0  1.0  1.0  1.0\n",
      "     a    b    c    d    b    c    d    e\n",
      "1  0.0  0.0  0.0  0.0  NaN  NaN  NaN  NaN\n",
      "2  0.0  0.0  0.0  0.0  1.0  1.0  1.0  1.0\n",
      "3  0.0  0.0  0.0  0.0  1.0  1.0  1.0  1.0\n",
      "4  NaN  NaN  NaN  NaN  1.0  1.0  1.0  1.0\n"
     ]
    }
   ],
   "source": [
    "df1 = pd.DataFrame(np.ones((3,4))*0, columns=['a','b','c','d'], index=[1,2,3])\n",
    "df2 = pd.DataFrame(np.ones((3,4))*1, columns=['b','c','d', 'e'], index=[2,3,4])\n",
    "print(df1)\n",
    "'''\n",
    "     a    b    c    d\n",
    "1  0.0  0.0  0.0  0.0\n",
    "2  0.0  0.0  0.0  0.0\n",
    "3  0.0  0.0  0.0  0.0\n",
    " '''\n",
    "print(df2)\n",
    "'''\n",
    "     b    c    d    e\n",
    "2  1.0  1.0  1.0  1.0\n",
    "3  1.0  1.0  1.0  1.0\n",
    "4  1.0  1.0  1.0  1.0\n",
    " '''\n",
    "res=pd.concat([df1,df2],axis=1,join='outer')#行往外进行合并\n",
    "print(res)"
   ]
  },
  {
   "cell_type": "code",
   "execution_count": 7,
   "metadata": {
    "ExecuteTime": {
     "end_time": "2020-02-06T04:52:09.857727Z",
     "start_time": "2020-02-06T04:52:09.834741Z"
    }
   },
   "outputs": [
    {
     "name": "stdout",
     "output_type": "stream",
     "text": [
      "     a    b    c    d    b    c    d    e\n",
      "2  0.0  0.0  0.0  0.0  1.0  1.0  1.0  1.0\n",
      "3  0.0  0.0  0.0  0.0  1.0  1.0  1.0  1.0\n"
     ]
    }
   ],
   "source": [
    "res=pd.concat([df1,df2],axis=1,join='inner')#行相同的进行合并\n",
    "print(res)"
   ]
  },
  {
   "cell_type": "code",
   "execution_count": 21,
   "metadata": {
    "ExecuteTime": {
     "end_time": "2020-02-06T06:13:19.760703Z",
     "start_time": "2020-02-06T06:13:19.744716Z"
    }
   },
   "outputs": [
    {
     "name": "stdout",
     "output_type": "stream",
     "text": [
      "[1 1 1]\n",
      "[2 2]\n"
     ]
    }
   ],
   "source": [
    "import numpy as np\n",
    "\n",
    "a = np.array([[1,2,3],[4,5,6]])\n",
    "\n",
    "a\n",
    "print(a.argmax(axis=0))\n",
    "\n",
    "print(a.argmax(axis=1))"
   ]
  },
  {
   "cell_type": "code",
   "execution_count": 25,
   "metadata": {
    "ExecuteTime": {
     "end_time": "2020-02-06T06:32:34.352208Z",
     "start_time": "2020-02-06T06:32:34.347209Z"
    }
   },
   "outputs": [],
   "source": [
    "a = np.array([[   0,    1,    2,    3],\n",
    "       [1234,    5,    6,    7],\n",
    "       [   8,    9,   10,   11]])"
   ]
  },
  {
   "cell_type": "code",
   "execution_count": 26,
   "metadata": {
    "ExecuteTime": {
     "end_time": "2020-02-06T06:32:34.785439Z",
     "start_time": "2020-02-06T06:32:34.781442Z"
    }
   },
   "outputs": [],
   "source": [
    "s = a[:,1:3]"
   ]
  },
  {
   "cell_type": "code",
   "execution_count": 27,
   "metadata": {
    "ExecuteTime": {
     "end_time": "2020-02-06T06:32:40.267825Z",
     "start_time": "2020-02-06T06:32:40.260832Z"
    }
   },
   "outputs": [
    {
     "data": {
      "text/plain": [
       "array([[   0,    1,    2,    3],\n",
       "       [1234,    5,    6,    7],\n",
       "       [   8,    9,   10,   11]])"
      ]
     },
     "execution_count": 27,
     "metadata": {},
     "output_type": "execute_result"
    }
   ],
   "source": [
    " s = 10\n",
    "a "
   ]
  },
  {
   "cell_type": "code",
   "execution_count": 31,
   "metadata": {
    "ExecuteTime": {
     "end_time": "2020-02-06T06:38:41.385212Z",
     "start_time": "2020-02-06T06:38:40.890647Z"
    }
   },
   "outputs": [
    {
     "data": {
      "image/png": "[encoded data removed]",
      "text/plain": [
       "<Figure size 432x288 with 1 Axes>"
      ]
     },
     "metadata": {
      "needs_background": "light"
     },
     "output_type": "display_data"
    }
   ],
   "source": [
    "# 曼德勃罗\n",
    "import numpy as np\n",
    "import matplotlib.pyplot as plt\n",
    "\n",
    "\n",
    "def mandelbrot( h,w, maxit=20 ):\n",
    "    \"\"\"Returns an image of the Mandelbrot fractal of size (h,w).\"\"\"\n",
    "    y,x = np.ogrid[ -1.4:1.4:h*1j, -2:0.8:w*1j ]\n",
    "    c = x+y*1j\n",
    "    z = c\n",
    "    divtime = maxit + np.zeros(z.shape, dtype=int)\n",
    "\n",
    "    for i in range(maxit):\n",
    "        z = z**2 + c\n",
    "        diverge = z*np.conj(z) > 2**2            # who is diverging\n",
    "        div_now = diverge & (divtime==maxit)  # who is diverging now\n",
    "        divtime[div_now] = i                  # note when\n",
    "        z[diverge] = 2                        # avoid diverging too much\n",
    "\n",
    "    return divtime\n",
    "plt.imshow(mandelbrot(400,400))\n",
    "plt.show()"
   ]
  },
  {
   "cell_type": "code",
   "execution_count": 36,
   "metadata": {
    "ExecuteTime": {
     "end_time": "2020-02-06T06:54:08.362627Z",
     "start_time": "2020-02-06T06:53:41.305718Z"
    }
   },
   "outputs": [
    {
     "name": "stdout",
     "output_type": "stream",
     "text": [
      "1\n",
      "2\n",
      "3\n"
     ]
    }
   ],
   "source": [
    "# 例1：循环输出休眠1秒\n",
    "import time\n",
    "i = 1\n",
    "while i <= 3:\n",
    "    print (i) # 输出i\n",
    "    i += 1\n",
    "    time.sleep(1) # 休眠1秒1234567"
   ]
  },
  {
   "cell_type": "code",
   "execution_count": null,
   "metadata": {},
   "outputs": [],
   "source": []
  }
 ],
 "metadata": {
  "kernelspec": {
   "display_name": "Python 3",
   "language": "python",
   "name": "python3"
  },
  "language_info": {
   "codemirror_mode": {
    "name": "ipython",
    "version": 3
   },
   "file_extension": ".py",
   "mimetype": "text/x-python",
   "name": "python",
   "nbconvert_exporter": "python",
   "pygments_lexer": "ipython3",
   "version": "3.7.3"
  },
  "toc": {
   "base_numbering": 1,
   "nav_menu": {},
   "number_sections": true,
   "sideBar": true,
   "skip_h1_title": false,
   "title_cell": "Table of Contents",
   "title_sidebar": "Contents",
   "toc_cell": false,
   "toc_position": {},
   "toc_section_display": true,
   "toc_window_display": false
  }
 },
 "nbformat": 4,
 "nbformat_minor": 2
}
