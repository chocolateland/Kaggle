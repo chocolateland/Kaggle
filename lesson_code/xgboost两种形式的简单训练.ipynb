{
 "cells": [
  {
   "cell_type": "markdown",
   "metadata": {},
   "source": [
    "## 原生态xgboost的使用形式"
   ]
  },
  {
   "cell_type": "markdown",
   "metadata": {},
   "source": [
    "### 安装xgboost教程\n",
    "+ https://blog.csdn.net/weixin_40802676/article/details/89317332\n",
    "### 官方文档 \n",
    "+ https://xgboost.readthedocs.io/en/latest/build.html\n",
    "### 扩展包\n",
    "+ https://www.lfd.uci.edu/~gohlke/pythonlibs/\n",
    "+ 查看本机python的版本匹配哪些文件\n",
    "\n",
    "import pip._internal\n",
    "\n",
    "print(pip._internal.pep425tags.get_supported())"
   ]
  },
  {
   "cell_type": "code",
   "execution_count": 1,
   "metadata": {
    "ExecuteTime": {
     "end_time": "2020-03-01T07:28:47.432620Z",
     "start_time": "2020-03-01T07:28:38.483879Z"
    }
   },
   "outputs": [],
   "source": [
    "import xgboost as xgb"
   ]
  },
  {
   "cell_type": "markdown",
   "metadata": {},
   "source": [
    "### 名词收集\n",
    "1. numpy  https://www.runoob.com/numpy/numpy-tutorial.html\n",
    "2. pandas  https://morvanzhou.github.io/tutorials/data-manipulation/np-pd/\n",
    "        https://blog.csdn.net/weixin_44489066/article/details/89494395\n",
    "        https://www.jb51.net/article/163606.htm\n",
    "3. xgboost\n",
    "        https://www.jianshu.com/p/7e0e2d66b3d4\n",
    "4. sklearn\n",
    "        https://www.jianshu.com/p/6ada34655862\n",
    "5. DataFrame\n",
    "\n",
    "6. train_test_split\n",
    "      https://www.cnblogs.com/bonelee/p/8036024.html"
   ]
  },
  {
   "cell_type": "markdown",
   "metadata": {},
   "source": [
    "## 导入包及数据集"
   ]
  },
  {
   "cell_type": "code",
   "execution_count": 2,
   "metadata": {
    "ExecuteTime": {
     "end_time": "2020-03-01T07:28:53.291057Z",
     "start_time": "2020-03-01T07:28:53.124536Z"
    }
   },
   "outputs": [
    {
     "name": "stdout",
     "output_type": "stream",
     "text": [
      "     0    1    2    3\n",
      "0  5.1  3.5  1.4  0.2\n",
      "1  4.9  3.0  1.4  0.2\n",
      "2  4.7  3.2  1.3  0.2\n",
      "3  4.6  3.1  1.5  0.2\n",
      "4  5.0  3.6  1.4  0.2\n",
      "   0\n",
      "0  0\n",
      "1  0\n",
      "2  0\n",
      "3  0\n",
      "4  0\n",
      "   sepal_l  sepal_w  petal_l  petal_w\n",
      "0      5.1      3.5      1.4      0.2\n",
      "1      4.9      3.0      1.4      0.2\n",
      "2      4.7      3.2      1.3      0.2\n",
      "3      4.6      3.1      1.5      0.2\n",
      "4      5.0      3.6      1.4      0.2\n",
      "   label\n",
      "0      0\n",
      "1      0\n",
      "2      0\n",
      "3      0\n",
      "4      0\n"
     ]
    }
   ],
   "source": [
    "# 从sklearn 调入所需要的包\n",
    "from sklearn import datasets\n",
    "from sklearn.model_selection import train_test_split #数据分隔出训练集和验证集\n",
    "import xgboost as xgb\n",
    "import numpy as np\n",
    "import pandas as pd\n",
    "#导入精度和召回\n",
    "from sklearn.metrics import precision_score, recall_score\n",
    "#导入鸢尾花数据\n",
    "iris = datasets.load_iris()\n",
    "data = iris.data    #numpy 格式\n",
    "label = iris.target\n",
    "print(pd.DataFrame(data).head())    # 转化为DataFrame格式\n",
    "print(pd.DataFrame(label).head())\n",
    "data1 = pd.DataFrame(data)\n",
    "## 花萼长宽花瓣长宽\n",
    "data1.columns = ['sepal_l','sepal_w','petal_l','petal_w']\n",
    "print(data1.head())\n",
    "label1 = pd.DataFrame(label)\n",
    "label1.columns=['label']\n",
    "print(label1.head())\n",
    "#注意这里data label顺序是一致的，千万别打乱"
   ]
  },
  {
   "cell_type": "code",
   "execution_count": 5,
   "metadata": {
    "ExecuteTime": {
     "end_time": "2020-03-01T07:30:19.985537Z",
     "start_time": "2020-03-01T07:30:19.977543Z"
    }
   },
   "outputs": [
    {
     "data": {
      "text/plain": [
       "sklearn.utils.Bunch"
      ]
     },
     "execution_count": 5,
     "metadata": {},
     "output_type": "execute_result"
    }
   ],
   "source": [
    "# print(iris)\n",
    "type(iris)"
   ]
  },
  {
   "cell_type": "code",
   "execution_count": 6,
   "metadata": {
    "ExecuteTime": {
     "end_time": "2020-03-01T07:30:54.199315Z",
     "start_time": "2020-03-01T07:30:54.191322Z"
    }
   },
   "outputs": [
    {
     "name": "stdout",
     "output_type": "stream",
     "text": [
      "训练集长度: 105\n",
      "测试集长度: 45\n"
     ]
    }
   ],
   "source": [
    "# 划分训练集和测试集\n",
    "train_x, test_x, train_y, test_y = train_test_split(data1.values, label1.values, test_size=0.3, random_state=42)\n",
    "print(\"训练集长度:\", len(train_x))\n",
    "print(\"测试集长度:\", len(test_x))"
   ]
  },
  {
   "cell_type": "code",
   "execution_count": 14,
   "metadata": {
    "ExecuteTime": {
     "end_time": "2020-03-01T07:35:07.130498Z",
     "start_time": "2020-03-01T07:35:07.123506Z"
    }
   },
   "outputs": [
    {
     "data": {
      "text/plain": [
       "pandas.core.frame.DataFrame"
      ]
     },
     "execution_count": 14,
     "metadata": {},
     "output_type": "execute_result"
    }
   ],
   "source": [
    "# print(train_x)\n",
    "# type(train_x)\n",
    "# type(data1.values)\n",
    "# print(data1.values)\n",
    "type(data1)\n",
    "# print(data1)"
   ]
  },
  {
   "cell_type": "code",
   "execution_count": 21,
   "metadata": {
    "ExecuteTime": {
     "end_time": "2020-03-01T07:50:06.729667Z",
     "start_time": "2020-03-01T07:50:06.721676Z"
    }
   },
   "outputs": [
    {
     "data": {
      "text/plain": [
       "<xgboost.core.DMatrix at 0x1aa8e94bc18>"
      ]
     },
     "execution_count": 21,
     "metadata": {},
     "output_type": "execute_result"
    }
   ],
   "source": [
    "test_data\n",
    "# print(test_data)"
   ]
  },
  {
   "cell_type": "code",
   "execution_count": null,
   "metadata": {},
   "outputs": [],
   "source": [
    "label1.label.value_counts()"
   ]
  },
  {
   "cell_type": "markdown",
   "metadata": {},
   "source": [
    "1. xgb.DMatrix\n",
    "        https://blog.csdn.net/u010159842/article/details/78053669\n",
    "        https://blog.csdn.net/sb19931201/article/details/52577592"
   ]
  },
  {
   "cell_type": "code",
   "execution_count": 24,
   "metadata": {
    "ExecuteTime": {
     "end_time": "2020-03-01T07:54:17.954043Z",
     "start_time": "2020-03-01T07:54:17.914071Z"
    }
   },
   "outputs": [
    {
     "name": "stdout",
     "output_type": "stream",
     "text": [
      "[[0.00650657 0.96226174 0.03123166]\n",
      " [0.970643   0.02533227 0.00402478]\n",
      " [0.0033913  0.00692109 0.9896876 ]\n",
      " [0.00654362 0.9677424  0.02571394]\n",
      " [0.00615641 0.9104776  0.08336602]]\n",
      "test的预测结果: [1 0 2 1 1 0 1 2 1 1 2 0 0 0 0 1 2 1 1 2 0 2 0 2 2 2 2 2 0 0 0 0 1 0 0 2 1\n",
      " 0 0 0 2 1 1 0 0]\n",
      "验证集精准率： 1.0\n",
      "验证集召回率： 1.0\n"
     ]
    }
   ],
   "source": [
    "# 转换为DMatrix数据格式       #xgb矩阵赋值\n",
    "# train_data = xgb.DMatrix(train_x, label=train_y)\n",
    "test_data = xgb.DMatrix(test_x, label=test_y)\n",
    "# 设置参数   https://blog.csdn.net/sb19931201/article/details/52577592\n",
    "###multi：softmax是使用softmax后产生的分类结果，而multi:softprob是输出的概率矩阵。\n",
    "\n",
    "xgb_params = {\n",
    "    'eta': 0.3, #学习率\n",
    "    'silent': True,  # 输出运行讯息\n",
    "    'objective': 'multi:softprob',  # 使用多分类生成概率矩阵格式'multi:softmax',multi:softprob\n",
    "    'num_class': 3,  # 共有几个类别\n",
    "    'max_depth': 3  # 深度\n",
    "}\n",
    "num_round = 20  # 跑的步数    # 迭代次数\n",
    "\n",
    "# 模型训练\n",
    "model = xgb.train(xgb_params,xgb.DMatrix(train_x, label=train_y), num_round)\n",
    "\n",
    "# LZY保存模型\n",
    "model.save_model('C:/Users/Lee/Downloads/Homeworks/kaggle_lessons/lesson_1/开课吧讲课-数据竞赛-20191020/xgb.model') # 用于存储训练出的模型\n",
    "# 模型预测\n",
    "test_pre = model.predict(test_data)  #应该为test_x  ？？？\n",
    "\n",
    "print(test_pre[:5])\n",
    "\n",
    "# 选择表示最高概率的列（每一行最大值）\n",
    "test_pre_1 = np.asarray([np.argmax(row) for row in test_pre])   # numpy格式\n",
    "print(\"test的预测结果:\",test_pre_1)\n",
    "\n",
    "# 模型评估\n",
    "print('验证集精准率：',precision_score(test_y, test_pre_1, average='macro'))  # https://blog.csdn.net/hfutdog/article/details/88085878\n",
    "print('验证集召回率：',recall_score(test_y, test_pre_1, average='macro'))     # https://www.cnblogs.com/techengin/p/8962024.html"
   ]
  },
  {
   "cell_type": "markdown",
   "metadata": {},
   "source": [
    "解释： 第一行样本，选第二列（即1），预测为类别1；\n",
    "     第二行样本，选第一列（即0），预测为类别0；\n",
    "     。。。。。。"
   ]
  },
  {
   "cell_type": "markdown",
   "metadata": {},
   "source": [
    "## Sklearn接口形式使用Xgboost"
   ]
  },
  {
   "cell_type": "markdown",
   "metadata": {},
   "source": [
    "1. XGBClassifier\n",
    "           https://www.cnblogs.com/wanglei5205/p/8579244.html\n",
    "           \n",
    "           https://blog.csdn.net/RR7970/article/details/96139104\n",
    "           \n",
    "           https://www.programcreek.com/python/example/99824/xgboost.XGBClassifier"
   ]
  },
  {
   "cell_type": "code",
   "execution_count": 25,
   "metadata": {
    "ExecuteTime": {
     "end_time": "2020-03-01T07:54:22.878039Z",
     "start_time": "2020-03-01T07:54:22.253422Z"
    }
   },
   "outputs": [
    {
     "name": "stderr",
     "output_type": "stream",
     "text": [
      "H:\\Anaconda3\\anzhuang1\\lib\\site-packages\\sklearn\\preprocessing\\label.py:219: DataConversionWarning: A column-vector y was passed when a 1d array was expected. Please change the shape of y to (n_samples, ), for example using ravel().\n",
      "  y = column_or_1d(y, warn=True)\n",
      "H:\\Anaconda3\\anzhuang1\\lib\\site-packages\\sklearn\\preprocessing\\label.py:252: DataConversionWarning: A column-vector y was passed when a 1d array was expected. Please change the shape of y to (n_samples, ), for example using ravel().\n",
      "  y = column_or_1d(y, warn=True)\n"
     ]
    },
    {
     "name": "stdout",
     "output_type": "stream",
     "text": [
      "[1 0 2 1 1 0 1 2 1 1 2 0 0 0 0 1 2 1 1 2 0 2 0 2 2 2 2 2 0 0 0 0 1 0 0 2 1\n",
      " 0 0 0 2 1 1 0 0]\n",
      "验证集精准率： 1.0\n",
      "验证集召回率： 1.0\n"
     ]
    }
   ],
   "source": [
    "from xgboost import XGBClassifier\n",
    "model = XGBClassifier(\n",
    "        learning_rate=0.01,#学习率\n",
    "        n_estimators=3000,#步长\n",
    "        max_depth=4,#深度\n",
    "        objective='binary:logistic',\n",
    "        seed=27\n",
    "    )\n",
    "model.fit(train_x,train_y)\n",
    "\n",
    "# 预测\n",
    "#输出预测结果\n",
    "test_pre2 = model.predict(test_x)\n",
    "print(test_pre2)\n",
    "# 模型评估\n",
    "print('验证集精准率：',precision_score(test_y, test_pre2, average='macro')) \n",
    "print('验证集召回率：',recall_score(test_y, test_pre2, average='macro'))   \n",
    "\n",
    "# https://blog.csdn.net/hfutdog/article/details/88085878\n",
    "# https://www.cnblogs.com/techengin/p/8962024.html\n",
    "\n",
    "# 调参参数说明：\n",
    "# https://www.cnblogs.com/wzdLY/p/9831282.html\n",
    "\n",
    "# 原理及参数说明：\n",
    "# https://blog.csdn.net/han_xiaoyang/article/details/52665396\n",
    "# https://www.jianshu.com/p/a31091d5acbb    从参数空间转到了函数空间（观点新颖！！！）\n"
   ]
  },
  {
   "cell_type": "markdown",
   "metadata": {},
   "source": [
    "## XGBOOST原理详解\n",
    "\n",
    "+ https://www.cnblogs.com/kuangsyx/p/9043168.html"
   ]
  },
  {
   "cell_type": "code",
   "execution_count": null,
   "metadata": {},
   "outputs": [],
   "source": []
  }
 ],
 "metadata": {
  "kernelspec": {
   "display_name": "Python 3",
   "language": "python",
   "name": "python3"
  },
  "language_info": {
   "codemirror_mode": {
    "name": "ipython",
    "version": 3
   },
   "file_extension": ".py",
   "mimetype": "text/x-python",
   "name": "python",
   "nbconvert_exporter": "python",
   "pygments_lexer": "ipython3",
   "version": "3.7.3"
  },
  "toc": {
   "base_numbering": 1,
   "nav_menu": {},
   "number_sections": true,
   "sideBar": true,
   "skip_h1_title": false,
   "title_cell": "Table of Contents",
   "title_sidebar": "Contents",
   "toc_cell": false,
   "toc_position": {},
   "toc_section_display": true,
   "toc_window_display": false
  }
 },
 "nbformat": 4,
 "nbformat_minor": 2
}
