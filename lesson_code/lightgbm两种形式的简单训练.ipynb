{
 "cells": [
  {
   "cell_type": "markdown",
   "metadata": {},
   "source": [
    "## 原生形式lightgbm(import lightgbm as lgb)"
   ]
  },
  {
   "cell_type": "code",
   "execution_count": 1,
   "metadata": {
    "ExecuteTime": {
     "end_time": "2020-02-09T06:10:20.450598Z",
     "start_time": "2020-02-09T06:10:20.445601Z"
    }
   },
   "outputs": [],
   "source": [
    "# pip install lightgbm"
   ]
  },
  {
   "cell_type": "code",
   "execution_count": 2,
   "metadata": {},
   "outputs": [
    {
     "name": "stdout",
     "output_type": "stream",
     "text": [
      "     0    1    2    3\n",
      "0  5.1  3.5  1.4  0.2\n",
      "1  4.9  3.0  1.4  0.2\n",
      "2  4.7  3.2  1.3  0.2\n",
      "3  4.6  3.1  1.5  0.2\n",
      "4  5.0  3.6  1.4  0.2\n",
      "   0\n",
      "0  0\n",
      "1  0\n",
      "2  0\n",
      "3  0\n",
      "4  0\n",
      "   sepal_l  sepal_w  petal_l  petal_w\n",
      "0      5.1      3.5      1.4      0.2\n",
      "1      4.9      3.0      1.4      0.2\n",
      "2      4.7      3.2      1.3      0.2\n",
      "3      4.6      3.1      1.5      0.2\n",
      "4      5.0      3.6      1.4      0.2\n",
      "   label\n",
      "0      0\n",
      "1      0\n",
      "2      0\n",
      "3      0\n",
      "4      0\n"
     ]
    }
   ],
   "source": [
    "# 从sklearn 调入所需要的包\n",
    "from sklearn import datasets\n",
    "from sklearn.model_selection import train_test_split #数据分隔出训练集和验证集\n",
    "import lightgbm as lgb\n",
    "import numpy as np\n",
    "import pandas as pd\n",
    "#导入精度和召回\n",
    "from sklearn.metrics import precision_score, recall_score\n",
    "#导入鸢尾花数据\n",
    "iris = datasets.load_iris()\n",
    "data = iris.data\n",
    "label = iris.target\n",
    "print(pd.DataFrame(data).head())\n",
    "print(pd.DataFrame(label).head())\n",
    "data1 = pd.DataFrame(data)\n",
    "## 花萼长宽花瓣长宽\n",
    "data1.columns = ['sepal_l','sepal_w','petal_l','petal_w']\n",
    "print(data1.head())\n",
    "label1 =pd.DataFrame(label)\n",
    "label1.columns=['label']\n",
    "print(label1.head())\n",
    "#注意这里data label顺序是一致的，千万别打乱"
   ]
  },
  {
   "cell_type": "code",
   "execution_count": 3,
   "metadata": {},
   "outputs": [
    {
     "name": "stdout",
     "output_type": "stream",
     "text": [
      "训练集长度: 105\n",
      "测试集长度: 45\n"
     ]
    }
   ],
   "source": [
    "# 划分训练集和测试集\n",
    "train_x, test_x, train_y, test_y = train_test_split(data1, label1, test_size=0.3, random_state=42)\n",
    "print(\"训练集长度:\", len(train_x))\n",
    "print(\"测试集长度:\", len(test_x))"
   ]
  },
  {
   "cell_type": "markdown",
   "metadata": {},
   "source": [
    "## 1. 调参\n",
    "        https://www.cnblogs.com/chenxiangzhen/p/10894306.html\n",
    "        https://blog.csdn.net/CherDW/article/details/86517162\n",
    "        https://lightgbm.readthedocs.io/en/latest/Python-API.html#scikit-learn-api （官方文件）\n",
    "        https://blog.csdn.net/u012735708/article/details/83749703\n",
    "        https://blog.csdn.net/dzysunshine/article/details/92124011"
   ]
  },
  {
   "cell_type": "code",
   "execution_count": 4,
   "metadata": {},
   "outputs": [
    {
     "name": "stdout",
     "output_type": "stream",
     "text": [
      "[10]\ttraining's multi_error: 0.0666667\tvalid_1's multi_error: 0\n",
      "[[0.13683286 0.63500393 0.22816321]\n",
      " [0.69436834 0.15467706 0.15095461]\n",
      " [0.12934308 0.16125127 0.70940565]\n",
      " [0.14172417 0.62195656 0.23631927]\n",
      " [0.13683286 0.63500393 0.22816321]]\n",
      "test的预测结果: [1 0 2 1 1 0 1 2 1 1 2 0 0 0 0 1 2 1 1 2 0 2 0 2 2 2 2 2 0 0 0 0 1 0 0 2 1\n",
      " 0 0 0 2 1 1 0 0]\n",
      "验证集精准率： 1.0\n",
      "验证集召回率： 1.0\n"
     ]
    }
   ],
   "source": [
    "# 转换为DMatrix数据格式\n",
    "train_data = lgb.Dataset(train_x,train_y)\n",
    "test_data = lgb.Dataset(test_x,test_y)\n",
    "# 设置参数\n",
    "lgb_params = {\n",
    "   'boosting_type': 'gbdt',  \n",
    "    'objective': 'multiclass',\n",
    "    'metric': 'multi_error', \n",
    "    'verbose': 1 , # <0 显示致命的, =0 显示错误 (警告), >0 显示信息\n",
    "     'num_class':3 #lightgbm.basic.LightGBMError: b'Number of classes should be specified and greater than 1 for multiclass training'\n",
    "    }\n",
    "\n",
    "# 模型训练\n",
    "clf = lgb.train(lgb_params,train_data,num_boost_round =10,\n",
    "                valid_sets = [train_data,test_data], \n",
    "                verbose_eval = 10)   #10步\n",
    "# 模型预测\n",
    "test_pre = clf.predict(test_x, num_iteration=clf.best_iteration)\n",
    "# print(test_pre)\n",
    "print(test_pre[:5])\n",
    "\n",
    "# 选择表示最高概率的列\n",
    "test_pre_1 = np.asarray([np.argmax(row) for row in test_pre])\n",
    "print(\"test的预测结果:\",test_pre_1)\n",
    "\n",
    "# 模型评估\n",
    "print('验证集精准率：',precision_score(test_y, test_pre_1, average='macro')) \n",
    "print('验证集召回率：',recall_score(test_y, test_pre_1, average='macro'))  "
   ]
  },
  {
   "cell_type": "markdown",
   "metadata": {},
   "source": [
    "## Sklearn接口形式使用lightgbm"
   ]
  },
  {
   "cell_type": "code",
   "execution_count": 4,
   "metadata": {},
   "outputs": [
    {
     "name": "stdout",
     "output_type": "stream",
     "text": [
      "[1 0 2 1 1 0 1 2 1 1 2 0 0 0 0 1 2 1 1 2 0 2 0 2 2 2 2 2 0 0 0 0 1 0 0 2 1\n",
      " 0 0 0 2 1 1 0 0]\n",
      "验证集精准率： 1.0\n",
      "验证集召回率： 1.0\n"
     ]
    },
    {
     "name": "stderr",
     "output_type": "stream",
     "text": [
      "E:\\ProgramData\\Anaconda3\\lib\\site-packages\\sklearn\\preprocessing\\label.py:219: DataConversionWarning: A column-vector y was passed when a 1d array was expected. Please change the shape of y to (n_samples, ), for example using ravel().\n",
      "  y = column_or_1d(y, warn=True)\n",
      "E:\\ProgramData\\Anaconda3\\lib\\site-packages\\sklearn\\preprocessing\\label.py:252: DataConversionWarning: A column-vector y was passed when a 1d array was expected. Please change the shape of y to (n_samples, ), for example using ravel().\n",
      "  y = column_or_1d(y, warn=True)\n"
     ]
    }
   ],
   "source": [
    "import lightgbm as lgb\n",
    "lgb_params = {\n",
    "    'learning_rate':0.1,\n",
    "    'max_bin':150,     # 分箱\n",
    "    'num_leaves':32,   # 叶子树 \n",
    "    'max_depth':11,  \n",
    "    'objective':'multiclass',\n",
    "    'n_estimators':300    # 300步\n",
    "}\n",
    "model=lgb.LGBMClassifier(**lgb_params)\n",
    "\n",
    "model.fit(train_x,train_y)\n",
    "# 预测\n",
    "#输出预测结果\n",
    "test_pre2 = model.predict(test_x)\n",
    "print(test_pre2)\n",
    "# 模型评估\n",
    "print('验证集精准率：',precision_score(test_y, test_pre2, average='macro')) \n",
    "print('验证集召回率：',recall_score(test_y, test_pre2, average='macro'))  "
   ]
  },
  {
   "cell_type": "markdown",
   "metadata": {},
   "source": [
    "总结：\n",
    "1. lgb.train中正则化参数为\"lambda_l1\", \"lambda_l1\"，sklearn中则为'reg_alpha', 'reg_lambda'。  ## 避免过拟合，加入的惩罚项\n",
    "2. 多分类时lgb.train除了'objective':'multiclass',还要指定\"num_class\":5，而sklearn接口只需要指定'objective':'multiclass'。\n",
    "3. 迭代次数在sklearn中是'n_estimators':20，在初始化模型时指定\n"
   ]
  },
  {
   "cell_type": "code",
   "execution_count": null,
   "metadata": {},
   "outputs": [],
   "source": []
  },
  {
   "cell_type": "code",
   "execution_count": null,
   "metadata": {},
   "outputs": [],
   "source": []
  },
  {
   "cell_type": "markdown",
   "metadata": {},
   "source": [
    "## CSND上示例"
   ]
  },
  {
   "cell_type": "code",
   "execution_count": 1,
   "metadata": {},
   "outputs": [
    {
     "name": "stdout",
     "output_type": "stream",
     "text": [
      "Start training...\n",
      "[1]\tvalid_0's l2: 0.659605\tvalid_0's auc: 1\n",
      "Training until validation scores don't improve for 5 rounds\n",
      "[2]\tvalid_0's l2: 0.598339\tvalid_0's auc: 1\n",
      "[3]\tvalid_0's l2: 0.540953\tvalid_0's auc: 1\n",
      "[4]\tvalid_0's l2: 0.490961\tvalid_0's auc: 1\n",
      "[5]\tvalid_0's l2: 0.444002\tvalid_0's auc: 1\n",
      "[6]\tvalid_0's l2: 0.404297\tvalid_0's auc: 1\n",
      "Early stopping, best iteration is:\n",
      "[1]\tvalid_0's l2: 0.659605\tvalid_0's auc: 1\n",
      "Save model...\n",
      "Start predicting...\n",
      "The rmse of prediction is: 0.8121608885821442\n"
     ]
    }
   ],
   "source": [
    "\n",
    "# coding: utf-8\n",
    "# pylint: disable = invalid-name, C0111\n",
    " \n",
    "# 函数的更多使用方法参见LightGBM官方文档：http://lightgbm.readthedocs.io/en/latest/Python-Intro.html\n",
    " \n",
    "import json\n",
    "import lightgbm as lgb\n",
    "import pandas as pd\n",
    "from sklearn.metrics import mean_squared_error\n",
    "from sklearn.datasets import load_iris\n",
    "from sklearn.model_selection import train_test_split\n",
    "from sklearn.datasets import  make_classification\n",
    " \n",
    "iris = load_iris()   # 载入鸢尾花数据集\n",
    "data=iris.data\n",
    "target = iris.target\n",
    "X_train,X_test,y_train,y_test =train_test_split(data,target,test_size=0.2)\n",
    " \n",
    " \n",
    "# 加载你的数据\n",
    "# print('Load data...')\n",
    "# df_train = pd.read_csv('../regression/regression.train', header=None, sep='\\t')\n",
    "# df_test = pd.read_csv('../regression/regression.test', header=None, sep='\\t')\n",
    "#\n",
    "# y_train = df_train[0].values\n",
    "# y_test = df_test[0].values\n",
    "# X_train = df_train.drop(0, axis=1).values\n",
    "# X_test = df_test.drop(0, axis=1).values\n",
    " \n",
    "# 创建成lgb特征的数据集格式\n",
    "lgb_train = lgb.Dataset(X_train, y_train) # 将数据保存到LightGBM二进制文件将使加载更快\n",
    "lgb_eval = lgb.Dataset(X_test, y_test, reference=lgb_train)  # 创建验证数据\n",
    " \n",
    "# 将参数写成字典下形式\n",
    "params = {\n",
    "    'task': 'train',\n",
    "    'boosting_type': 'gbdt',  # 设置提升类型\n",
    "    'objective': 'regression', # 目标函数\n",
    "    'metric': {'l2', 'auc'},  # 评估函数\n",
    "    'num_leaves': 31,   # 叶子节点数\n",
    "    'learning_rate': 0.05,  # 学习速率\n",
    "    'feature_fraction': 0.9, # 建树的特征选择比例\n",
    "    'bagging_fraction': 0.8, # 建树的样本采样比例\n",
    "    'bagging_freq': 5,  # k 意味着每 k 次迭代执行bagging\n",
    "    'verbose': 1 # <0 显示致命的, =0 显示错误 (警告), >0 显示信息\n",
    "}\n",
    " \n",
    "print('Start training...')\n",
    "# 训练 cv and train\n",
    "gbm = lgb.train(params,lgb_train,num_boost_round=20,valid_sets=lgb_eval,early_stopping_rounds=5) # 训练数据需要参数列表和数据集\n",
    " \n",
    "print('Save model...') \n",
    " \n",
    "gbm.save_model('model.txt')   # 训练后保存模型到文件\n",
    " \n",
    "print('Start predicting...')\n",
    "# 预测数据集\n",
    "y_pred = gbm.predict(X_test, num_iteration=gbm.best_iteration) #如果在训练期间启用了早期停止，可以通过best_iteration方式从最佳迭代中获得预测\n",
    "# 评估模型\n",
    "print('The rmse of prediction is:', mean_squared_error(y_test, y_pred) ** 0.5) # 计算真实值和预测值之间的均方根误差\n",
    "\n",
    "\n",
    "#原文链接：https://blog.csdn.net/huacha__/article/details/81057150"
   ]
  },
  {
   "cell_type": "code",
   "execution_count": null,
   "metadata": {},
   "outputs": [],
   "source": []
  }
 ],
 "metadata": {
  "kernelspec": {
   "display_name": "Python 3",
   "language": "python",
   "name": "python3"
  },
  "language_info": {
   "codemirror_mode": {
    "name": "ipython",
    "version": 3
   },
   "file_extension": ".py",
   "mimetype": "text/x-python",
   "name": "python",
   "nbconvert_exporter": "python",
   "pygments_lexer": "ipython3",
   "version": "3.7.3"
  },
  "toc": {
   "base_numbering": 1,
   "nav_menu": {},
   "number_sections": true,
   "sideBar": true,
   "skip_h1_title": false,
   "title_cell": "Table of Contents",
   "title_sidebar": "Contents",
   "toc_cell": false,
   "toc_position": {},
   "toc_section_display": true,
   "toc_window_display": false
  }
 },
 "nbformat": 4,
 "nbformat_minor": 2
}
